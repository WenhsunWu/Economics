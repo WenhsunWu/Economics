{
 "cells": [
  {
   "cell_type": "markdown",
   "metadata": {},
   "source": [
    "# Hopenhayn Model"
   ]
  },
  {
   "cell_type": "markdown",
   "metadata": {},
   "source": [
    "This note presents \n",
    "- the structure of the firm dynamics model in Hopenhayn (1992), and Hopenhayn and Rogerson (1993), \n",
    "- the calculation of the steady state equilibrium (i.e., steady state) in the model along with some comparative statics, \n",
    "- an extension to the original model so that total labor supply can be subject to both constant (i.e., balanced growth) and time-variant growth (i.e., transition). (Hopenhayn, Neira & Singhania, 2019)"
   ]
  },
  {
   "cell_type": "markdown",
   "metadata": {},
   "source": [
    "## 1. Introduction"
   ]
  },
  {
   "cell_type": "markdown",
   "metadata": {},
   "source": [
    "Industries are dynamics over time: firms enter, expand, contract and also exit. This dynamic process can be important for job creation and destruction, resource reallocation, and other economic issues, though the majority of it may be not accounted for by aggregate variables. So what drives this dynamic process at firm level and what are their implications at aggregate level?\n",
    "\n",
    "Hopenhayn 1992, a seminal paper of industry evolution and firm dynamics since Jovanovic 1982, uses an industry equilibrium model to approximate this process and applies steady state analysis on this model to help understand the empirical regularity that have been observed. \n",
    "\n",
    "In the model, firms are faced with individual productivity shocks but exempt from any aggregate uncertainty. Firms forecast both output and input price perfectly and decide optimally if to exit or to stay based on the productivity shocks they observe. Potential entry supply is assumed to be infinitely elastic, though subject to paying a sunk cost for entry and drawing inital productivity from a certain distribution. Market clears so that the totoal production equals to total demand, total labor demand equals to total supply, and entrants earn no profits in expectation. \n",
    "\n",
    "In Hopenhayn and Rogerson 1993, this model is extented to a general equilibrium setting and applied to the analysis on the cost of a job destruction taxes on the economy in terms of employment and welfare.\n",
    "\n",
    "It is worthwhile to mention that some other very famous papers extend the original model to a more general setting, e.g. Ericson & Pakes (1995) and Melitz (2003). And there are also empirical works that adopt the basic idea of productivity evolution, e.g. Olley & Pakes (1996)."
   ]
  },
  {
   "cell_type": "markdown",
   "metadata": {},
   "source": [
    "## 2. Model\n",
    "\n",
    "The notations below generally comply to the original papers except some minor adjustment to reconcile between two papers and also with other external materials used."
   ]
  },
  {
   "cell_type": "markdown",
   "metadata": {},
   "source": [
    "### 2.1 Hopenhayn 1992"
   ]
  },
  {
   "cell_type": "markdown",
   "metadata": {},
   "source": [
    "#### Setting\n",
    "\n",
    "Consider a perfect competitive industry in which a continuum (compared to granular) of firms produce \n",
    "a homogeneous product.\n",
    "\n",
    "Firms take prices as given in both output market and input market, with inverse demand function $p = D^{-1}(Q)$. \n",
    "\n",
    "Assume the only input is labor, with wage price $w$ = $W(N)$ , where $N$ is total industry demand for labor.\n",
    "\n",
    "The product function for a firm is $q=f(s, n)$, where $s \\in S \\equiv[0,1]$ ? is a productivity shock following a Markov process independent across firms with conditional distribution $F\\left(s^{\\prime} | s\\right)$. $F()$ is strictly decreasing in $s$ , which implies a self-enforcing/persistent tendency.\n",
    "\n",
    "In equilibrium firms exit industry whenever their state $s$ falls below a reservation level $x$. $F^{k}(\\cdot | s)$ is assumed to be recurrent so that no firms live forever. The value of exit is normalized to zero, i.e. the plant\n",
    "has no “scrap value”. \n",
    "\n",
    "Every active firm in the market pays every period a fixed cost $c_{f}$.\n",
    "\n",
    "In every periods, a potential firm can enter after paying an entry cost $c_{e}$, and then draw a productivity shock ${\\nu}$ from an initial distribution $G$."
   ]
  },
  {
   "cell_type": "markdown",
   "metadata": {},
   "source": [
    "#### Timing\n",
    "\n",
    "The timing of incumbents and entrants is following:\n",
    "\n",
    "- Incumbents begin period $t$ with their state $s_{t-1}$\n",
    "- They then choose if exit or stay based on $x$\n",
    "- At the same time, the potential firms decide whether to enter and pay the entry cost\n",
    "- After their decisions, the incumbents that stay and the entrants observe their productivity shocks $s_t$ and $\\nu$, from $F\\left(s_t | s_{t-1}\\right)$ and $G$ respectively\n",
    "- They then decide their input use $n(s_t, p, w)$, output units $q(s_t, p, w)$, and also receive the profit $\\pi(s_t, p, w)$\n",
    "- Repreat next period\n",
    "- Note that the first 3 steps can be also seen as occured at the end of period $t-1$"
   ]
  },
  {
   "cell_type": "markdown",
   "metadata": {},
   "source": [
    "#### Aggregating\n",
    "\n",
    "Assume $\\mu_{t}(A)$ measures the mass of firms with shocks $s_t$ in $A \\subset S$, where $\\mu_{t}(S)$ is a measure of total size of industry. Thus $\\mu_{t}$ can be seen as a state of industry in period $t$. Note that this state includes new entrants but not the firms exiting.\n",
    "\n",
    "Thus the aggregating output supply and input demand are $Q^{s}(\\mu, p, w)=\\int q(s, p, w) \\mu(ds)$, and $N^{d}(\\mu, p, w)=\\int n(s, p, w) \\mu(ds)$. \n",
    "\n",
    "Prices $p,w$ are determined competitively to equate aggregate demand and supply in respective market."
   ]
  },
  {
   "cell_type": "markdown",
   "metadata": {},
   "source": [
    "#### Notes on dynamics\n",
    "\n",
    "Note again that the only source of uncertainty in the model is firm specific productivity shock, which follows a certain markov process. This transition law combined with production, exit and entry rules make firms expand, contract and exit as well as corresponding entries. \n",
    "\n",
    "Since there are no industry-wide shocks, aggregate output, employment, prices, frequency distribution for $s$ follow deterministic paths, which forms a competitive equilibrium given initial measure $\\mu_0$ over types of firms. Thus in firm's decision problem, the sequence $\\left\\{\\left(p_{t}, w_{t}\\right)\\right\\}$ is deterministic, and only $s_t$ is stochastic."
   ]
  },
  {
   "cell_type": "markdown",
   "metadata": {},
   "source": [
    "### 2.2 Hopenhayn and Rogerson (1993)"
   ]
  },
  {
   "cell_type": "markdown",
   "metadata": {},
   "source": [
    "There are some differences when extending above model to a more genearl equilibrium setting with an adjustment cost on input change:\n",
    "\n",
    "- As in a competitive equilibrium we can at most determine all relative prices, in many applications we assume labor is the numeraire, i.e. wage is normalized to 1. Thus wage does not appear explicitly.\n",
    "- Profit function becomes: $$p_{t} f\\left(n_{t}, s_{t}\\right)-n_{t}-p_{t} c_{f}-g\\left(n_{t}, n_{t-1}\\right)$$, where \n",
    "    - the fixed operating cost is denominated in units of output (rather than in labor)\n",
    "    - $g$ captures the adjustment costs, e.g. if a firm must make a fixed payment $\\tau$ for every job destroy $g\\left(n_{t}, n_{t-1}\\right)=\\tau \\cdot \\max \\left(0, n_{t-1}-n_{t}\\right)$ \n",
    "- Assume the preferences of a representative agent: $$\\sum_{t=1}^{\\infty} \\beta^{t}\\left[u\\left(c_{t}\\right)-v\\left(n_{t}\\right)\\right]$$ \n",
    "    - where $c_{t}$ is consumption, restricted to be nonnegative and $n_{t}$ is labor supply, restricted to be either zero or one. This last feature is included so that the number of employees at a firm is well defined.  \n",
    "    - following Hansen (1985) and Rogerson (1988), they further assume that individuals choose employment lotteries and have access to markets to diversify idiosyncratic risk, which implies the economy behaves as though\n",
    " there were a representative agent with preferences defined by $$\\sum_{t=1}^{\\infty} \\beta^{t}\\left[u\\left(c_{t}\\right)-a N_{t}\\right]$$, where $N_{t}$ is the fraction of individuals who are employed in period $t$\n",
    "    - The ownership of the technology is assumed to be uniformly distributed across the population, and profits are shared equally in equilibrium. Also, in the policy analysis conducted later in the paper, the revenues raised from taxing firms for job destruction are redistributed uniformly to all individuals as a lump-sum payment."
   ]
  },
  {
   "cell_type": "markdown",
   "metadata": {},
   "source": [
    "## 3. Equilibrium"
   ]
  },
  {
   "cell_type": "markdown",
   "metadata": {},
   "source": [
    "### 3.1 Competitive Equilibiurm"
   ]
  },
  {
   "cell_type": "markdown",
   "metadata": {},
   "source": [
    "#### Notations\n",
    "\n",
    "Incumbents (including entrants after drawing their first productivity) maximize expected discounted profits with perfect foresight on the sequence of future prices $z=\\left\\{p_{t}, w_{t}\\right\\}$, i.e. the Bellman function for incumbents:  $$v_{t}(s, z)=\\max \\left\\{\\pi\\left(s, p_{t}, w_{t}\\right)\\right\\}+\\beta \\max \\left\\{0, \\int v_{t+1}\\left(s^{\\prime}, z\\right) F\\left(d s^{\\prime} | s\\right)\\right\\}$$\n",
    "\n",
    "And firm decide to leave if $s_{t}<x_{t}$, where the reservation rule   $$x_{t}=\\inf \\left\\{s \\in S : \\int v_{t+1}\\left(s^{\\prime}, z\\right) F\\left(d s^{\\prime} | s\\right) \\geqslant 0\\right\\}$$"
   ]
  },
  {
   "cell_type": "markdown",
   "metadata": {},
   "source": [
    "Assume the mass of entrants in period $t$ is $M_{t}$. New firms will enter the market until expected discounted profits net of the\n",
    " entry cost is zero. According to our setting the expected discounted profits for a potential entrant is $$v_{t}^{e}(z)=\\int v_{t}(s, z) \\nu(d s)$$    \n",
    "\n",
    "The above entry and exit rules imply an evolution for industry state $\\mu_{t}$: $$\\mu_{t+1}\\left(\\left[0, s^{\\prime}\\right)\\right)=\\int_{s \\geqslant x_{t}} F\\left(s^{\\prime} | s\\right) \\mu_{t}(d s) \\ + \\ M_{t+1} G\\left(s^{\\prime}\\right)$$\n",
    "\n",
    "An alternative and convenient expression is $$\\mu_{t+1}=\\hat{P}_{t} \\mu_{t}+M_{t+1} \\nu$$ , where $$\\hat{P}_{t}(s, A)=\\left\\{\\begin{array}{ll}{\\int_{A} F(d s' | s)} & {\\text { if } s \\geqslant x_{t}} \\\\ {0} & {\\text { otherwise }}\\end{array}\\right.$$\n",
    "\n"
   ]
  },
  {
   "cell_type": "markdown",
   "metadata": {},
   "source": [
    "#### Conditions for competitive equilibrium path\n",
    "\n",
    "A competitive equilibrium for the industry are (bounded) sequences: $\\left\\{p_{t}^{*}\\right\\},\\left\\{w_{t}^{*}\\right\\},\\left\\{Q_{t}^{*}\\right\\},\\left\\{N_{t}^{*}\\right\\},\\left\\{M_{t}^{*}\\right\\},\\left\\{x_{t}^{*}\\right\\},\\left\\{\\mu_{t}^{*}\\right\\}$ , which satisfy following conditions \n",
    "\n",
    "- Market clearing in output market: \n",
    "$p_{t}^{*}=D^{-1}\\left(Q_{t}^{*}\\right)$, $Q_{t}^{*}=Q^{s}\\left(\\mu_{t}^{*}, p_{t}^{*}, w_{t}^{*}\\right) =\\int q(s, p^*_t, w^*_t) \\mu^*_t(d s)$, \n",
    "- Market clearing in input market: $w_{t}^{*}=W\\left(N_{t}^{*}\\right)$, $N_{t}^{*}=N^{d}\\left(\\mu_{t}^{*}, p_{t}^{*}, w_{t}^{*}\\right) =\\int n(s, p^*_t, w^*_t) \\mu^*_t(d s)$\n",
    "- Exit rule chosen optimally: $x_{t}^{*}$ that satifies $x_{t}=\\inf \\left\\{s \\in S : \\int v_{t+1}\\left(s^{\\prime}, z\\right) F\\left(d s^{\\prime} | s\\right) \\geqslant 0\\right\\}$\n",
    "- Entry rule (free entry condition): $v_{t}^{e}\\left(z^{*}\\right) \\leqslant c_{e}$, with equality if $M_{t}^{*}>0$, \n",
    "- Law of motion on shocks: $\\mu_{t+1}=\\hat{P}_{t} \\mu_{t}+M_{t+1} \\nu$ given $\\mu_{0}, M_{t}^{*},x_{t}^{*}$\n",
    "\n",
    "(The competitive equilibrium generally says that starting from any initial distribution $\\mu$, there exist above sequences that solve all the conditions.)\n",
    "\n",
    "See Hopenhayn 1992 for the existence and uniqueness arguement of this equilibrium."
   ]
  },
  {
   "cell_type": "markdown",
   "metadata": {},
   "source": [
    "### 3.2 Stationary Equilibrium (Steady State)"
   ]
  },
  {
   "cell_type": "markdown",
   "metadata": {},
   "source": [
    "Additional to conditions for competitive equilibrium above, a stationary equilibrium with positive entry satisfy: \n",
    "- Exit rule:  $\\int v\\left(s^{\\prime}, \\mu\\right) F\\left(d s^{\\prime} | x\\right)=0$\n",
    "- Entry rule: $\\int v(s, \\mu) \\nu(d s)=c_{e}$\n",
    "- Law of motion on shock distribution: $\\mu=\\hat{P}_{x} \\mu+M \\nu$, where $\\hat{P}_{x}$ is the transition operator given exit rule $x$\n",
    "\n",
    "Again see Hopenhayn 1992 for the existence and uniqueness arguement of this equilibrium with postive entry and exit."
   ]
  },
  {
   "cell_type": "markdown",
   "metadata": {},
   "source": [
    "In this steady state, entry and exit rates are equal, and the same is job creation and destruction at aggregate level. Actually all aggregates including price level, exit reservation level, employment, output, number of firms along with the distributions for firm size, profits, and value all remain constant through time."
   ]
  },
  {
   "cell_type": "markdown",
   "metadata": {},
   "source": [
    "Steady state analysis used in economics to study long run properties of dynamic models. For example, we may be interested in firm turnover, job turnover, size distribution, and also these demographic statisics by age cohorts.\n",
    "\n",
    "Steady state analysis is also helpful to do comparative statics: how changes in structural characteristics of an industry (e.g. costs of entry, fixed costs, demand, and some characteristics of the process for firms' shocks) affect turnover, growth of firms, distributions of size, profits, and value of firms. One can also learn the effects of policies through these practices."
   ]
  },
  {
   "cell_type": "markdown",
   "metadata": {},
   "source": [
    "### 3.3 Hopenhayn and Rogerson (1993)\n",
    "\n",
    "In the case of Hopenhayn and Rogerson (1993), conditions for equilibrium slightly changed according the differences we have mentioned in section 2. The most impact is that employment in last period (denote $n$ below) now enters the state space on which firm's decisions rely. \n",
    "\n",
    "Specifically, given stationary output price level $p$,\n",
    "\n",
    "- Bellman equation: $$v(s, n ; p)=\\max _{n^{\\prime} \\geq 0}\\left\\{p f\\left(n^{\\prime}, s\\right)-n^{\\prime}-p c_{f}-g\\left(n^{\\prime}, n\\right)\\right. \\left.+\\boldsymbol{\\beta} \\max \\left[E_{s} v\\left(s^{\\prime}, n^{\\prime} ; p\\right),-g\\left(0, n^{\\prime}\\right)\\right]\\right\\}$$, where\n",
    "    - optimal current employment decision: $n' = N(s, n, p)$\n",
    "    - optimal stay/exit decision:  $X(s, n, p)$ (1=exit, 0=stay)\n",
    "- And thus state of the economy is a measure over pairs $\\mu(s, n)$ \n",
    "    - in computations: both $s$ and $n$ will be restricted to take on a finite number of values, in which case $\\mu$ can be represented as a matrix, with the $i$-$j$ element giving the total number (or mass) of firms that have their individual state variable equal to the pair $\\left(s_{i}, n_{j}\\right)$\n",
    "    - The evolve process is unchanged: $\\mu^{\\prime}= T(\\mu, M ; p)$ \n",
    "- Output: $$Y(\\mu, M ; p)=\\int\\left[f(N(s, n ; p), s)-c_{f}\\right] d \\mu(s, n) +M \\int f(N(s, 0 ; p), s) d \\nu(s)$$ \n",
    "    - for new entrants, last period employment is 0 and assume they bears only the fixed cost of entry, $c_{e}$, but not the fixed cost $c_{f}$.\n",
    "- A firm's expected adjustment costs for the next period: $$r(s, n ; p)=[1-X(s, n ; p)] \\int g\\left(N\\left(s^{\\prime}, n^{\\prime} ; p\\right), n^{\\prime}\\right) d F\\left(s, s^{\\prime}\\right) +X(s, n ; p) \\cdot g\\left(0, n^{\\prime}\\right)$$  \n",
    "    - Integration yields aggregate adjustment costs $$R(\\mu, M, p)$$\n",
    "- Labor Demand: $$L^{d}(\\mu, M, p)=\\int N(s, n ; p) d \\mu(s, n)+M \\int N(s, 0 ; p) d \\nu(s)$$ \n",
    "\n",
    "\n",
    "In a stationary state with constant prices, individual optimization problem reduces to a static optimization problem of the form: $$\\max u(c)-a N \\quad \\text{subject to} \\quad  p c \\leq N+\\Pi+R$$\n",
    "- Given all households own the same diversified portfolio of firms, the household’s problem simplifies to a static labor/leisure choice since there is no desire to save when there is no uncertainty at the individual household or aggregate level.\n",
    "- Solution to this problem can be written as $N=L^{s}(p, \\Pi+R)$ "
   ]
  },
  {
   "cell_type": "markdown",
   "metadata": {},
   "source": [
    "A stationary equilibrium is given by $p^{*}$, $M^{*}$, and $\\mu^{*}$ such that  following conditions:\n",
    "\n",
    "- labor market clearing: $L^{d}\\left(\\mu^{*}, M^{*}, p^{*}\\right)=L^{s}\\left(p^{*}, \\Pi\\left(\\mu^{*}, M^{*}, p^{*}\\right)+R\\left(\\mu^{*}, M^{*}, p^{*}\\right)\\right)$\n",
    "- law of motion: $T\\left(\\mu^{*}, M^{*} ; p^{*}\\right)=\\mu^{*}$\n",
    "- entry rule: $W^{e}\\left(p^{*}\\right) \\leq p^{*} c_{e}$ with equality if $M^{*}>0$ \n",
    "- (output market clearing?)\n"
   ]
  },
  {
   "cell_type": "markdown",
   "metadata": {},
   "source": [
    "## 4. Specification"
   ]
  },
  {
   "cell_type": "markdown",
   "metadata": {},
   "source": [
    "In order to caluculate the stationary equilibrium, we need to specify the model more explicitly by choosing functional forms and assigning parameter values (in next section).\n",
    "\n",
    "The benchmark model used in Hopenhayn and Rogerson 1993 has following settings:\n",
    "\n",
    "- Production function: $$f(n, s)=s n^{\\theta}, \\quad 0 \\leq \\theta \\leq 1$$\n",
    "    - Then, $\\pi(s)=\\max _{n}\\left\\{p s n^{\\theta}-w n\\right\\}$\n",
    "    - So that the labor demand $n(s)=\\left(\\frac{\\theta p s}{w}\\right)^{\\frac{1}{1-\\theta}}$\n",
    "    - Thus in Hopenhayn model, firm size measured by employment is monotonic in accumulated productivity, which is also true for output and profit.\n",
    "    - Note that under this CD function, profit maximization implies that the share paid to production labor is identical across firms. However, if we assume the fixed cost $c_f$ is the overhead labor cost and a function of firm size, e.g. $$c_{f}(s)=c_{f a}+c_{f b} s^{\\frac{1}{1-\\theta}}$$, then larger firms would have lower labor shares. This fits empirical findings but also means more parameters for caliberation. (Note ${\\frac{1}{1-\\theta}}$ need to be lower than some value otherwise it will be U shape rather than L shape.)\n",
    "    - Note also that given $0 \\leq \\theta \\leq 1$, the firm has diminishing returns on employment $n$, which generates downward sloping labor demand. (important?)"
   ]
  },
  {
   "cell_type": "code",
   "execution_count": 53,
   "metadata": {},
   "outputs": [
    {
     "data": {
      "image/png": "[encoded data removed]",
      "text/plain": [
       "<Figure size 1008x1080 with 6 Axes>"
      ]
     },
     "metadata": {
      "needs_background": "light"
     },
     "output_type": "display_data"
    }
   ],
   "source": [
    "import matplotlib. pyplot as plt\n",
    "import numpy as np\n",
    "p = 1\n",
    "θ = 0.64\n",
    "cf_a = 0.2\n",
    "cf_b = 0.02\n",
    "\n",
    "def n(s):\n",
    "    return (θ*p*s)**(1/(1-θ))\n",
    "\n",
    "def f(s):\n",
    "    return s*(n(s)**θ)\n",
    "\n",
    "def cf(s):\n",
    "    return cf_a + cf_b *(s**(1/(1-θ)))\n",
    "\n",
    "fig, ax = plt.subplots(3, 2, figsize=(14,15))\n",
    "ss = np.linspace(1.5,8,200)\n",
    "ax[0,0].plot(ss, n(ss), label=\"Employment/Size\" )\n",
    "ax[0,0].legend()\n",
    "ax[0,0].set_xlabel('$s$')\n",
    "ax[0,0].set_ylabel('$n$')\n",
    "ax[0,1].plot(ss, f(ss), label=\"Output\")\n",
    "ax[0,1].legend()\n",
    "ax[0,1].set_ylabel('$y$')\n",
    "ax[0,1].set_xlabel('$s$')\n",
    "\n",
    "ax[1,0].plot(n(ss), f(ss), label=\"Output\")\n",
    "ax[1,0].legend()\n",
    "ax[1,0].set_ylabel('$y$')\n",
    "ax[1,0].set_xlabel('$n$')\n",
    "ax[1,1].plot(n(ss), f(ss)/n(ss), label=\"Output Per Labor\")\n",
    "ax[1,1].legend()\n",
    "ax[1,1].set_ylabel('$y$')\n",
    "ax[1,1].set_xlabel('$n$')\n",
    "\n",
    "labor_share = n(ss)/(f(ss)*p)\n",
    "labor_share_with_cf = (n(ss) + cf(ss))/(f(ss)*p)\n",
    "\n",
    "ax[2,0].plot(n(ss), labor_share, label=\"Labor share\")\n",
    "ax[2,0].set_ylabel('%')\n",
    "ax[2,0].set_xlabel('$n$')\n",
    "ax[2,0].legend()\n",
    "ax[2,1].plot(n(ss)+cf(ss), labor_share_with_cf, label=\"Labor share with overhead labor\")\n",
    "ax[2,1].set_ylabel('%')\n",
    "ax[2,1].set_xlabel('$n+cf$')\n",
    "ax[2,1].legend()\n",
    "\n",
    "plt.tight_layout()\n",
    "plt.suptitle(f\"Monotonic relationship between productivity, size, and output ($θ={θ}, p={p}$)\",\n",
    "            y=1.03, fontsize=20);"
   ]
  },
  {
   "cell_type": "markdown",
   "metadata": {},
   "source": [
    "- Markov process of productivity (linear Gaussian AR1): $$\\log \\left(s_{t}\\right)=a+\\rho \\log \\left(s_{t-1}\\right)+\\epsilon_{t}, \\quad \\epsilon_{t} \\sim N\\left(0, \\sigma_{\\epsilon}^{2}\\right), a \\geq 0,0 \\leq \\rho<1$$, where\n",
    "    - $\\rho$ = a measure of persistence, which assumes that the process for $s$ exhibits mean reversion. \n",
    "    - This property inherited by endogenous stochastic process for firm size, which is consistent with recent findings from firm-level data sets. ?\n",
    "    - However this process also abstract from some empirical features: e.g. larger firms tend to display both more persistence and less variability than smaller firms, and also there may exist age effects.\n",
    "    - The density function $$p\\left(\\log(s^{\\prime}) | \\log(s)\\right)= \\phi\\left(\\log(s^{\\prime})- a -\\rho \\log(s)\\right)$$, where $\\phi(z)$ is the pdf of $\\epsilon_{t} \\sim N\\left(0, \\sigma_{\\epsilon}^{2}\\right)$"
   ]
  },
  {
   "cell_type": "markdown",
   "metadata": {},
   "source": [
    "With these functional forms, it is easy to show that optimal decision rules for individual firm behavior imply $$\\begin{aligned} \\log n_{t} &=\\frac{1}{1-\\theta}\\left(\\log \\theta+\\log p+\\log s_{t}\\right) \\\\ X\\left(s_{t}, n_{t}, p\\right) &=1 \\quad \\text { if } s_{t} \\leq s^{*} \\text { for some } s^{*} \\end{aligned}$$\n",
    "\n",
    "Employment decision rule, Exit rule, and Transition rule thus imply the law of motion for employment of a surviving firm: $$\\log \\left(n_{t+1}\\right)=\\frac{1-\\rho}{1-\\theta}\\left(\\log \\theta+\\log p+\\frac{a}{1-\\rho}\\right) +\\rho \\log \\left(n_{t}\\right)+\\left(\\frac{1}{1-\\theta}\\right) \\epsilon_{t}$$. Note that this relationship is effectively independent of actual equilibrium price level, thus we can estimate hte parameters of the process using cross-sectional data on surviving firms. "
   ]
  },
  {
   "cell_type": "markdown",
   "metadata": {},
   "source": [
    "- Preferences:  $$\\sum_{t=1}^{\\infty} \\beta^{t}\\left[u\\left(c_{t}\\right)-v\\left(n_{t}\\right)\\right] , \\quad  u(c)=\\ln (c), \\  v(n)=A n, \\  A>0$$\n",
    "    - This is same as that employed by Hansen (1985) in his study of business cycles and has been used as a benchmark in many subsequent aggregate studies.\n",
    "    - In the neoclassical one-sector growth model, this specification implies that employment is constant along a balanced growth path\n",
    "    - At aggregate level?: $$\\max _{C, N^{s}} ln(C)-A N^{s} , \\quad s.t. \\quad  p C \\leq N^{s}+\\Pi+R$$ \n",
    "    -From FOCs of the reduced static problem we can get $C(p) = \\bar{D}/p$, where $\\bar{D} = 1/A$ is the demand parameter. And the perfectly elastic? labor supply is $N=\\bar{D}-\\Pi - R$.\n",
    "- Preferences: (Hopenhayan 1992)\n",
    "    - In the partial eqilibrium, instead of modelling a household sector explicitly, the industry demand (function) is exogenous, which can be assumed the same as above: $$D(p)=\\bar{D} / p$$\n",
    "    - While the effect of higher demand on the stationary equilibrium depends on whether labor supply price to the industry is fixed (horizontal supply curve) or increasing to aggregate demand.\n",
    "- Inelastic labor supply\n",
    "    - Hopenhayn, Neira & Singhania, 2019: a fixed endowment of a labor $N_{t},$ which is inelastically supplied and also the numeraire. \n",
    "    - Karahan, Pugsley & Sahin, 2019: a representative household who supplies labor inelastically to firms. \n",
    "    - Note that even though the wage is normalized to 1, the real wage will change with exogenous labor supply change. "
   ]
  },
  {
   "cell_type": "markdown",
   "metadata": {},
   "source": [
    "## 5. Caliberation"
   ]
  },
  {
   "cell_type": "markdown",
   "metadata": {},
   "source": [
    "Many of the parameter values are dependent on the length of a time period, which is set to be 5 years in the paper due to several reasons:\n",
    "- interval of Census of Manufactures data set is 5 years\n",
    "- there is a desire to abstract from higher-frequency movements such as cyclical fluctuations, since the model abstracts from such features \n",
    "- ease the computational burden\n",
    "\n",
    "The parameters are then assigned so that the model's equilibrium exactly matches the statistics.\n",
    "\n",
    "Some parameters can be then choosen relatively straightforward to link to highly aggregated statistics:\n",
    "- $\\theta$ links to labor's share of total revenue. A value of 0.64 or 2/3 has been used in most of the real business cycle literature\n",
    "- $\\beta$ maps monotonically into the real interest rate. In the paper, a discount rate of 0.8 in 5 years period is used, which implies an annual real interest rate of roughly 4%.\n",
    "- $A$ is chosen to produce an employment to population ratio, 0.6.\n",
    "\n",
    "Then the parameter in the markov process of shocks, namely $\\rho$ and $\\sigma_{\\epsilon}^{2}$ can be estimated from a regression of $\\log \\left(n_{t}\\right)$ on a constant and $\\log \\left(n_{t-1}\\right)$ for surviving firms.\n",
    "- the coefficient on $\\log \\left(n_{t-1}\\right)$ is an estimate of $\\rho$, and \n",
    "- given a value for $\\theta,$ the residual variance is equal to $\\sigma_{\\epsilon}^{2} /(1-\\theta)^{2}$\n",
    "- Note that firm-level data sets should be used here, which can have particular strengths and weaknesses due to issues like the extent of coverage, information included, frequency of data, and the ability to detect mergers, acquisitions, and transfers.\n",
    "- The parameter values used in the paper are based on data from US Longitudinal Research Data 1972-1977 <img src=\"../../../../../md_pic/image-20191001024738865.png\"   width=\"700px\"  style=\"zoom:100%\" >"
   ]
  },
  {
   "cell_type": "markdown",
   "metadata": {},
   "source": [
    "In the absence of data that allow the price to be estimated, there is an identification problem with $c_{e}$ , $c_{f}$, and $a$. This is accomplished by normalizing the stationary equilibrium price in the benchmark model to be unity and choosing the values of the model's remaining parameters to be consistent with this. ?\n",
    "- To determine $c_{f}$ and $a$ one can use cross-sectional average of log employment and 5-year exit rate. There is a unique choice of $c_{f}$ and $a$ that matches these 2 numbers given the fact that $x^{*}$ is increasing in $c_{f}$ and $a$, and given $x^{*}$ average size is increasing in $a$ and independent of $c_{f}$.\n",
    "- Simiarly, $c_{e}$ is chosen so that entry condition in equilibrium $v^{e}\\left(p^{*}\\right) = p^{*} c_{e}$ (given $M^{*}>0$) is satisfied with $p=1$\n",
    "\n",
    "Give all other parameters ?, a choice of $\\nu$ will determine size distribution by cohort in stationary equilibrium. Thus matching some part of this size distribution provides a method to choose $v$.\n",
    "- In paper, they use actual size distribution of firms aged 0-6 years and choose a value of $\\nu$ so that the distribution of firms in their first and second periods matches.\n",
    "- They found that a uniform distribution on lower part of interval in which realizations of $s$ lie produced a reasonable fit."
   ]
  },
  {
   "cell_type": "markdown",
   "metadata": {},
   "source": [
    "Note that the core of the dynamics in this model is the markov process of the productivity, especially in steady state where both price level $p$ and exit level $x$ are constant over time. In the following simple code I show a very preliminary test of the markov process of a certain entrant cohort in such an stationary equilibrium. The parameter used are close to the paper and other practial materials, though the setting of $\\nu$ and time-invariant $x$ is somehow arbitrary."
   ]
  },
  {
   "cell_type": "code",
   "execution_count": null,
   "metadata": {},
   "outputs": [],
   "source": [
    "from scipy.stats import norm, lognorm, uniform, gaussian_kde\n",
    "import seaborn as sns\n",
    "import pandas as pd\n",
    "# from quantecon import LAEz"
   ]
  },
  {
   "cell_type": "code",
   "execution_count": null,
   "metadata": {},
   "outputs": [],
   "source": [
    "a = 0.2\n",
    "ρ = 0.84 # 0.93\n",
    "σ = 0.26  \n",
    "ν = lognorm(0.6,1.8) # uniform(1,3) \n",
    "φ = norm(0,σ)\n",
    "x = 3 # exit reservation level\n",
    "p = 1\n",
    "θ = 0.64\n",
    "\n",
    "# def F(log_s0, log_s1):\n",
    "#     \"\"\"Stochastic kernel for log shocks\"\"\"\n",
    "#     return φ.pdf(log_s1 - a - ρ*log_s0)\n",
    "    \n",
    "M = 100000    # number of entrants\n",
    "T = 10       # period\n",
    "\n",
    "log_s = np.empty((M, T))\n",
    "ε = φ.rvs((M, T))\n",
    "s0 = ν.rvs(M)\n",
    "log_s[:, 0] = np.log(s0)\n",
    "for t in range(T-1):\n",
    "    log_s[:, t+1] = a + ρ * log_s[:, t] + ε[:, t]\n",
    "    \n",
    "# laes = [LAE(F, log_s[:, t]) for t in range(T)]\n",
    "s = np.exp(log_s)\n",
    "kdes = [gaussian_kde(s[:, t]) for t in range(T)]\n",
    "\n",
    "fig, ax = plt.subplots(3,2, figsize=(14,15))\n",
    "greys = [str(g) for g in np.linspace(0.0, 0.8, T)]\n",
    "greys.reverse()\n",
    "greys[0] = 'r'\n",
    "\n",
    "# sgrid = np.linspace(0.01, 30, 300)\n",
    "# for μ, g in zip(kdes, greys):\n",
    "#     ax[0,0].plot(sgrid, μ(sgrid), color=g, lw=2, alpha=0.6)\n",
    "# ax[0,0].set_xlabel('$s$')\n",
    "# ax[0,0].set_title(f'Density of $ν$ (red), $s_1$ (lighter) to $s_{{T-1}}$ (darker) for $T={T}$ (no exit)')\n",
    "\n",
    "X = np.ones((M, T))\n",
    "X[:,1:] = (s > x).cumprod(axis=1)[:,:-1]\n",
    "nt = X.sum(axis=0)\n",
    "exit_rate = -np.diff(nt)/ nt[:-1]\n",
    "ax[1,0].plot(nt)\n",
    "ax[1,0].set_title(f'No. of firms that stay (exit threshold $x={x}$)')\n",
    "ax[1,0].set_xlabel('$t$ (age)')\n",
    "ax[1,0].set_ylim(0,M)\n",
    "ax[1,1].plot(np.r_[np.nan, exit_rate])\n",
    "ax[1,1].set_title(f'Exit rate (exit threshold $x={x}$)')\n",
    "ax[1,1].set_xlabel('$t$ (age)')\n",
    "\n",
    "s_ = s*X\n",
    "for t, g in zip(range(T), greys):\n",
    "    _s = s_[:,t]\n",
    "    _s = _s[_s!=0]\n",
    "    ax[0,0].scatter(_s.mean(), 0.004, color=g)\n",
    "    sns.kdeplot(_s, color=g, ax=ax[0,0])\n",
    "ax[0,0].set_title(f'Evolution of kde of incumbents\\' productivity')\n",
    "ax[0,0].set_xlabel('$s$')\n",
    "\n",
    "# log_n = (log_s + np.log(θ) + np.log(p)) / (1-θ)\n",
    "# n = np.exp(log_n)\n",
    "# n_ = n*X \n",
    "n_ = (θ*p*s_)**(1/(1-θ))\n",
    "for t, g in zip(range(T), greys):\n",
    "    _n = n_[:,t]\n",
    "    _n = np.log(_n[_n!=0])\n",
    "    ax[0,1].scatter(_n.mean(), 0.002, color=g)\n",
    "    sns.kdeplot(_n, color=g, ax=ax[0,1])\n",
    "# sns.kdeplot(np.log(n_[:,1][X[:,2].astype(bool)]), color=greys[1], linestyle=\"--\", \n",
    "#             legend='size distribution of incumbents in $t_1$ that survived', ax=ax[0,1])\n",
    "ax[0,1].set_title(f'Evolution of kde of incumbents\\' employment (in log)')\n",
    "ax[0,1].set_xlabel('$log(n)$')\n",
    "ax[0,1].set_xlim(0,14)\n",
    "\n",
    "bins = np.array([0.001, 20, 100, 500, 1e7])\n",
    "n_g = np.digitize(n_, bins)\n",
    "pd.DataFrame(n_g).apply(lambda x: x.value_counts() / (x>0).sum()).T.loc[:,1:].rename(\n",
    "    columns=lambda c: '<' + str(int(bins[c]))\n",
    ").plot.bar(stacked=True, alpha=0.7, ax=ax[2,1]);\n",
    "ax[2,1].set_title(f'Distribution of firm no. by size')\n",
    "ax[2,1].set_xlabel('$t$ (age)')\n",
    "\n",
    "pd.DataFrame(n_).apply(lambda x:\n",
    "    pd.DataFrame({x.name: x, 'category': n_g[:, x.name]})\n",
    "    .query('category>0')\n",
    "    .groupby('category')\n",
    "    .sum()[x.name]\n",
    "    / x.sum()\n",
    ").T.rename(\n",
    "    columns=lambda c: '<' + str(int(bins[c]))\n",
    ").plot.bar(stacked=True, alpha=0.7, ax=ax[2,0]);\n",
    "ax[2,0].set_title(f'Distribution of firm employment over time')\n",
    "ax[2,0].set_xlabel('$t$ (age)')\n",
    "\n",
    "\n",
    "plt.tight_layout()\n",
    "plt.suptitle(f'The demographic evolution of a certain entrant cohort\\n  given $a ={a}$, $ρ={ρ}$, $σ={σ}$, $p={p}$, $x={x}$, and $ν$', \n",
    "             y=1.05, fontsize=20);"
   ]
  },
  {
   "cell_type": "markdown",
   "metadata": {},
   "source": [
    "Note that given above specification, both the mean and variance of firm growth decrease with size, which are the regularities that have been found in some empirical studies. This is because given $\\rho<1$, $s$ is mean-reversion. If $\\rho=1,$ Gibrat's law holds: average and variance of growth are independent of size. In such case, shocks that give rise to firm growth are perfectly correlated within a firm, then the growth rates of small and large firms are equally volatile, contrary to what is found in the data. To get that younger firms grow faster, we can assume $\\nu$ so that entrants are smaller and have a high growth rate in initial periods.\n",
    "\n",
    "However, one problem here is that if firm growth is mainly the result of many independent shocks within a firm, it can take hundreds of years for a few large firms to emerge."
   ]
  },
  {
   "cell_type": "code",
   "execution_count": null,
   "metadata": {},
   "outputs": [],
   "source": [
    "fig, ax = plt.subplots(1,2, figsize=(14,5))\n",
    "n_df = pd.DataFrame(n_).replace(0, np.nan)\n",
    "growth = n_df.pct_change(axis=1,fill_method=None)\n",
    "ax[0].plot(growth.mean())\n",
    "ax[0].set_title(f'Growth rate of incumbents by age')\n",
    "ax[0].set_xlabel('$t$ (age)')\n",
    "ax[1] = sns.regplot(n_[:,:-1][(~growth.isna()).values[:,1:]], \n",
    "                growth.stack(), ci=None, scatter_kws={'alpha':0.1});\n",
    "ax[1].set_title(f'Growth rate of incumbents by size')\n",
    "ax[1].set_xlabel('$n$')\n",
    "plt.tight_layout();"
   ]
  },
  {
   "cell_type": "markdown",
   "metadata": {},
   "source": [
    "Note that in Hopenhayn model, the age affect firm size only through the dynamic process of productivity, i.e. conditional on size, growth is independent of age. Thus the evolution of firm size distribution results mainly from selection effect rather than other effect from aging, which is different from the empirical results in Cabral & Mata 2003. \n",
    "\n",
    "Moreover, in this model the small size of young firms are completely due to less efficiency, which rules out any role that idosyncratic demand conditions across different firm demographic groups might have. (see Haltiwanger et al.)"
   ]
  },
  {
   "cell_type": "markdown",
   "metadata": {},
   "source": [
    "## 6. Calculation"
   ]
  },
  {
   "cell_type": "markdown",
   "metadata": {},
   "source": [
    "### 6.1 Hopenhayn 1992"
   ]
  },
  {
   "cell_type": "markdown",
   "metadata": {},
   "source": [
    "With all parameters determined, benchmark model can be solved numerically. The main part of the calculation is two fix point iterations, and the second one can be only done once given the linearity of the transition function. The following computational procedures to calculate the stationary equilibrium in Hopenhayn 1992 are largely stealed from Chris Edmond's lecture note and Gianluca Violante's lecture note.\n",
    "\n",
    "One distinction of the following procedure from the original 1992 paper is that shock $s$ is not limited in $[0,1]$. Another note is that we only need to construct discreted state $s$ for the benchmark model without adjustment cost of input. In the latter case, e.g. the 1993 paper, we need to construct grids  for both shocks and employment. (Following the paper, shocks were picked so that maximum employment level was equal to 5,000 workers. s~34 when p=1) "
   ]
  },
  {
   "cell_type": "markdown",
   "metadata": {},
   "source": [
    "**Step 1. Guess output price $p^{0}$ and solve incumbent’s dynamic programming problem** $$v\\left(s ; p^{0}\\right)=\\pi\\left(s ; p^{0}\\right)+\\beta \\max \\left[0, \\int v\\left(s^{\\prime} ; p^{0}\\right) F\\left(s^{\\prime} | s\\right) d s^{\\prime}\\right]$$ \n",
    "- (We have several ways to deal with the markov process here??)\n",
    "- Suppose productivity follows $n$-state Markov chain on $s_{i}$ with transition probabilities $F_{i j}$\n",
    "- Then value function is a $n$ vector with elements $v_{i}(p),$ and the Bellman equation for incumbent firm: $$v_{i}(p)=\\pi_{i}(p)+\\beta \\max \\left[0, \\sum_{j=1}^{n} v_{j}(p) F_{i j}\\right]$$ \n",
    "- solution of this problem also implies the optimal exit rule, i.e., $x\\left(p^{0}\\right)$ that solves $$\\int v\\left(s^{\\prime} ; p^{0}\\right) F\\left(s^{\\prime} | x\\right) d s^{\\prime}=0$$ \n",
    "\n",
    "\n",
    "**Step 2. Check that this price $p^{0}$ satisfies the free-entry condition** $$ \\int v\\left(s, p^{0}\\right) \\nu\\left(s\\right) d s= c_{e}$$ \n",
    "- E.g. if the LHS is too high, then go back to Step 1 and guess a new price $p^{1}<p^{0}$. Intuitively, if entrants have high expected value then reduce price to discourage entry, and versa vice.\n",
    "- Continue until a price $p^{*}$ is found that solves the free-entry condition\n",
    "- Calculate exit threshold $x^{*}\\left(p^{*}\\right)$ and then Collect exit decisions into a vector $X$ with elements: $\\begin{array}{ll}{x_{i}\\left(p^{*}\\right)=1} & {\\text { if } z_{i}<z^{*}\\left(p^{*}\\right)} \\\\ {x_{i}\\left(p^{*}\\right)=0} & {\\text { if } z_{i} \\geq z^{*}\\left(p^{*}\\right)}\\end{array}$\n",
    "\n",
    "\n",
    "**Step 3. Guess a measure of entrants $M^{0}$ and calculate stationary distribution $\\mu^{0}(s)$**\n",
    "- solves linear system $\\mu\\left(s^{\\prime}\\right)=\\int F\\left(s^{\\prime} | s\\right) \\mu(s) d s+M \\nu\\left(s^{\\prime}\\right)$ \n",
    "- Observe that RHS depends on price found at Step 2 via exit threshold $x^{*}\\left(p^{*}\\right)$\n",
    "- Note that as stationary distribution $\\mu$ is linearly homogeneous in $M$, this step can be speed up by solving a discretized linear system: $$\\mu = P_{x^*} \\mu + M\\nu  \\Rightarrow \\mu = M(I-P_{x^*})^{-1}\\nu$$\n",
    "- ,where  $n \\times n$ coefficient matrix $P_{x^*}$ has elements $P_{i j} = \\left(1-x_{j}\\right) F_{j i}, \\quad i, j=1, \\dots, n$  \n",
    "\n",
    "**Step 4. Given this $\\mu^{0}(s),$ calculate total industry supply and check market clearing condition** $$Q^s=\\int f\\left(s, p^{*}\\right) \\mu^{0}(s) d s=D\\left(p^{*}\\right)$$\n",
    "- e.g. if LHS is too low, then go back to Step 3 and guess new entrants $M^{1}>M^{0}$ \n",
    "- Continue until a $M^{*}$ is found that solves market-clearing condition\n",
    "- Note again as $\\mu(M, p)$ is linear in $M$, so write $\\mu(M, p)=M \\times \\mu(1, p)$, step 3 is now much simpler because we don't need to recompute $\\mu$, we just rescale the invariant measure already obtained.\n",
    "- Trick: given the linearity we actually can solve for $M^{*}$ as $M^{*}=\\frac{D\\left(p^{*}\\right)}{Q\\left(1, p^{*}\\right)}=\\frac{D\\left(p^{*}\\right)}{\\sum_{i=1}^{n} f_{i}\\left(p^{*}\\right) \\mu\\left(1, p^{*}\\right)}$"
   ]
  },
  {
   "cell_type": "markdown",
   "metadata": {},
   "source": [
    "Note that in terms of numerical integration we can use either monte carlo simulation or Gaussian quadrature. In particular, we can use Tauchen or Rouwenhorst approximation to approximate discretely a continuous process to a finite-state Markov chain, which would enormously lower the computational cost.\n",
    "\n",
    "Moreover, as mathematically firms in the Hopenhayn model solve stopping time problems, the dynamic problem can be formulated as so-called Hamilton-Jacobi-Bellman Variational Inequalities (HJBVIs) and solved as a linear complementarity problem (LCP). ?"
   ]
  },
  {
   "cell_type": "code",
   "execution_count": 1,
   "metadata": {},
   "outputs": [],
   "source": [
    "from dataclasses import dataclass\n",
    "from typing import Any\n",
    "from scipy.stats import norm, lognorm, uniform, gaussian_kde\n",
    "from interpolation import mlinterp, interp\n",
    "from numba import njit, prange, vectorize, jitclass\n",
    "import concurrent.futures\n",
    "import quantecon as qe\n",
    "import scipy as sp\n",
    "import matplotlib. pyplot as plt\n",
    "import numpy as np\n",
    "import pandas as pd\n",
    "\n",
    "Array = Any\n",
    "Distribution = Any"
   ]
  },
  {
   "cell_type": "code",
   "execution_count": 2,
   "metadata": {},
   "outputs": [],
   "source": [
    "@dataclass\n",
    "class Primitives:\n",
    "    \"\"\"\n",
    "    A dataclass to store calibrated parameters, distributions, and relevant arrays \n",
    "    \"\"\"\n",
    "\n",
    "    # model primitives\n",
    "    beta: float  # discount rate\n",
    "    D: float  # demand parameter\n",
    "    theta: float  # production function curvature\n",
    "    cf: float  # production fixed cost period\n",
    "    ce: float  # entry cost\n",
    "    s_size: int  # grid size of productivity\n",
    "    a: float  # shift parameter of markov process\n",
    "    rho: float  # persistence parameter of markov process\n",
    "    sigma: float  # std of error in markov process\n",
    "    G: Distribution  # distribution of entrants' productivity\n",
    "\n",
    "    # if \"quadrature-tauchen\" use tauchen approximation to discrete Markov chain approximation\n",
    "    # if \"quadrature-rouwenhorst\"use rouwenhorst approximation to discrete \n",
    "    # if \"montecarlo\" use monte carlo simulation\n",
    "    mode: str = \"quadrature-tauchen\"\n",
    "    # parameters for creating states grid in \"motecarlo\" mode\n",
    "    s_min: float = None  # lower boundary of productivity\n",
    "    s_max: float = None  # up boundary of productivity\n",
    "    mc_size: int = None  # monte carlo simulation size\n",
    "\n",
    "    #     # extended model primitives\n",
    "    #     cf_a:float = 0\n",
    "    #     cf_b:float = 1\n",
    "\n",
    "    def __post_init__(self):\n",
    "\n",
    "        if self.mode == \"quadrature-tauchen\":\n",
    "            # create state grids from tauchen approximation\n",
    "            self.mc = qe.markov.tauchen(\n",
    "                rho=self.rho, sigma_u=self.sigma, b=self.a, m=4, n=self.s_size\n",
    "            )\n",
    "            self.s_vals = np.exp(self.mc.state_values)\n",
    "            # conditional probabilities\n",
    "            self.F = self.mc.P\n",
    "            self.nu = self.mc.stationary_distributions.flatten()\n",
    "            #self.discrete_nu()\n",
    "\n",
    "        elif self.mode == \"quadrature-rouwenhorst\":\n",
    "            # create state grids from rouwenhorst approximation\n",
    "            self.mc = qe.markov.rouwenhorst(rho=self.rho, sigma=self.sigma, ybar=self.a,  n=self.s_size)\n",
    "            self.s_vals = np.exp(self.mc.state_values)\n",
    "            # conditional probabilities\n",
    "            self.F = self.mc.P\n",
    "\n",
    "            self.discrete_nu()\n",
    "\n",
    "        elif self.mode == \"montecarlo\":\n",
    "            # make grids for the monte carlo states\n",
    "            self.s_vals = np.linspace(self.s_min, self.s_max, self.s_size)\n",
    "\n",
    "            # create errors for monte carlo integration\n",
    "            self.error_mc = np.random.normal(0, self.sigma, self.mc_size)\n",
    "\n",
    "            # create entrants' productivity for monte carlo simulation\n",
    "            self.nu_mc = self.G.rvs(self.mc_size)\n",
    "\n",
    "    def discrete_nu(self):\n",
    "        # get pmf of state grids for entrants ???\n",
    "        pdf_entry = self.G.pdf(self.s_vals)\n",
    "        self.nu = pdf_entry / np.sum(pdf_entry)"
   ]
  },
  {
   "cell_type": "code",
   "execution_count": 3,
   "metadata": {},
   "outputs": [],
   "source": [
    "@dataclass\n",
    "class Result():\n",
    "    p: float # stationary price\n",
    "    v: Array # incumbent value\n",
    "    x: float # exit threshold\n",
    "    X: Array # exit choice \n",
    "    mu: Array # stationary distribution over firm size\n",
    "    M: float # entrant mass\n",
    "    s_vals: Array # state grid\n",
    "    n_vals: Array # employment grid\n",
    "    f_vals: Array # output grid\n",
    "    Q_d: float # output demand\n",
    "    \n",
    "    def __post_init__(self):\n",
    "        self.total_employment = self.n_vals @ self.mu \n",
    "        self.total_firm_mass = sum(self.mu)\n",
    "        self.average_firm_size = self.total_employment / self.total_firm_mass\n",
    "        self.entry_rate = self.M / self.total_firm_mass\n",
    "        self.exit_rate = self.X@self.mu / self.total_firm_mass"
   ]
  },
  {
   "cell_type": "code",
   "execution_count": 4,
   "metadata": {},
   "outputs": [],
   "source": [
    "@dataclass\n",
    "class Hopenhayn(Primitives):\n",
    "    \"\"\"\n",
    "    A class to calculate the steady state equilibrium for Hopenhayn model, \n",
    "    where the only state varaible is the productivity.\n",
    "    \"\"\"\n",
    "\n",
    "    tol: float = 1e-7\n",
    "    max_iter: int = 1e4\n",
    "    verbose: bool = True\n",
    "    print_skip: int = 1e3\n",
    "\n",
    "    def __post_init__(self):\n",
    "        super().__post_init__()\n",
    "\n",
    "    def employment_func(self, s, p):\n",
    "        n = (self.theta * p * s) ** (1 / (1 - self.theta))\n",
    "        return n\n",
    "\n",
    "    def production_func(self, s, p):\n",
    "        n = self.employment_func(s, p)\n",
    "        f = s * (n ** self.theta)\n",
    "        return f\n",
    "\n",
    "    #     def cf_funtion(self, s):\n",
    "    #         cf = self.cf_a + self.cf_b *(s**(1/(1-self.theta)))\n",
    "    #         return cf\n",
    "\n",
    "    def profit_func(self, p, s):\n",
    "        n = self.employment_func(s, p)\n",
    "        f = self.production_func(s, p)\n",
    "        pi = p * f - n - self.cf\n",
    "        return pi\n",
    "\n",
    "    def state_transition_func(self, s, error):\n",
    "        log_s_new = (1 - self.rho) *self.a + self.rho * np.log(s) + error\n",
    "        s_new = np.exp(log_s_new)\n",
    "        return s_new\n",
    "\n",
    "    def T_value_operator(self, v, p):\n",
    "\n",
    "        v_new = np.empty_like(v)\n",
    "\n",
    "        if self.mode != \"montecarlo\":\n",
    "            integral = self.F @ v\n",
    "            v_new = self.profit_func(\n",
    "                p, self.s_vals\n",
    "            ) + self.beta * integral.clip(min=0)\n",
    "        else:\n",
    "            for i in range(self.s_size):\n",
    "                s = self.s_vals[i]\n",
    "                s_mc = np.ones(self.mc_size) * s\n",
    "                s_mc_new = self.state_transition_func(s_mc, self.error_mc)\n",
    "                integrals = interp(self.s_vals, v, s_mc_new)\n",
    "                integral = integrals.sum() / self.mc_size\n",
    "                v_new[i] = self.profit_func(p, s) + self.beta * max(integral, 0)\n",
    "\n",
    "        return v_new\n",
    "\n",
    "    def value_func_iteration(self, p):\n",
    "\n",
    "        # Initialize v\n",
    "        v = np.ones(self.s_size)\n",
    "\n",
    "        # Set up loop\n",
    "        i = 0\n",
    "        error = self.tol + 1\n",
    "\n",
    "        while i < self.max_iter and error > self.tol:\n",
    "            v_new = self.T_value_operator(v, p)\n",
    "            error = np.max(np.abs(v - v_new))\n",
    "            i += 1\n",
    "            if self.verbose and i % self.print_skip == 0:\n",
    "                print(f\"Error at iteration {i} is {error}.\")\n",
    "            v = v_new\n",
    "\n",
    "        if i == self.max_iter:\n",
    "            print(\"Failed to converge value!\")\n",
    "\n",
    "        #         if self.verbose and i < self.max_iter:\n",
    "        #             print(f\"\\nValue converged in {i} iterations.\")\n",
    "\n",
    "        return v  # , error, i\n",
    "\n",
    "    def entry_clearing(self, p, v_entry_func):\n",
    "        v = self.value_func_iteration(p)\n",
    "        v_entry = v_entry_func(v)\n",
    "        error = v_entry - self.ce\n",
    "        return error\n",
    "\n",
    "    def solve_price(self,):\n",
    "        if self.mode != \"montecarlo\":\n",
    "            v_entry_func = lambda v: v @ self.nu\n",
    "        else:\n",
    "            v_entry_func = (\n",
    "                lambda v: np.sum(interp(self.s_vals, v, self.nu_mc))\n",
    "                / self.mc_size\n",
    "            )\n",
    "        res = sp.optimize.root(self.entry_clearing, 1, args=(v_entry_func))\n",
    "        if not res.success:\n",
    "            print(\"Failed to converge price!\")\n",
    "        p = res.x[0]\n",
    "        v = self.value_func_iteration(p)\n",
    "        return p, v\n",
    "\n",
    "    def decision_func(self, v):\n",
    "        v_next = self.F @ v\n",
    "        x_index = np.searchsorted(v_next, 0)\n",
    "        x = self.s_vals[x_index]\n",
    "        X = np.where(self.s_vals < x, 1, 0)\n",
    "        return x, X\n",
    "\n",
    "    def solve_mu(self, M, X):\n",
    "        P_x = (self.F * (1 - X).reshape(self.s_size, 1)).T\n",
    "        I = np.eye(self.s_size)\n",
    "        temp = sp.linalg.inv(I - P_x)\n",
    "        mu = M * (temp @ self.nu)\n",
    "        return mu\n",
    "\n",
    "    def output_market_clearing(self, M, mu_M1, f_vals, Q_d):\n",
    "        mu = M * mu_M1\n",
    "        Q_s = mu @ f_vals\n",
    "        error = Q_s - Q_d\n",
    "        return error\n",
    "    \n",
    "    def labor_market_clearing(self, M, mu_M1, n_vals, L_s):\n",
    "        mu = M * mu_M1\n",
    "        L_d = mu @ n_vals\n",
    "        error = L_s - L_d\n",
    "        return error\n",
    "\n",
    "    def solve_M(self, X, f_vals, Q_d):\n",
    "        mu_M1 = self.solve_mu(1, X)\n",
    "\n",
    "        res = sp.optimize.root(\n",
    "            self.output_market_clearing, 1, args=(mu_M1, f_vals, Q_d)\n",
    "        )\n",
    "        if not res.success:\n",
    "            print(\"Failed to converge entrant mass!\")\n",
    "        M = res.x[0]\n",
    "\n",
    "        #         # trick\n",
    "        #         M = Q_d / (f_vals @ mu_M1)\n",
    "\n",
    "        mu = M * mu_M1\n",
    "        return M, mu\n",
    "\n",
    "    def solve_model(self):\n",
    "        super().__post_init__()\n",
    "        p, v = self.solve_price()\n",
    "        x, X = self.decision_func(v)\n",
    "\n",
    "        s_vals = self.s_vals\n",
    "        n_vals = self.employment_func(s_vals, p)\n",
    "        f_vals = self.production_func(s_vals, p)\n",
    "        Q_d = self.D / p\n",
    "\n",
    "        M, mu = self.solve_M(X, f_vals, Q_d)\n",
    "\n",
    "        return Result(\n",
    "            p=p,\n",
    "            v=v,\n",
    "            x=x,\n",
    "            X=X,\n",
    "            mu=mu,\n",
    "            M=M,\n",
    "            s_vals=s_vals,\n",
    "            n_vals=n_vals,\n",
    "            f_vals=f_vals,\n",
    "            Q_d=Q_d,\n",
    "        )"
   ]
  },
  {
   "cell_type": "code",
   "execution_count": 5,
   "metadata": {},
   "outputs": [],
   "source": [
    "# use calibrated parameters to form and calculate\n",
    "test = Hopenhayn(\n",
    "    beta = 0.8,\n",
    "    D = 100,\n",
    "    theta = 2/3,\n",
    "    cf = 20,\n",
    "    ce = 39.7,\n",
    "    s_size = 33,\n",
    "    a = (1 - 0.9)*1.3855,\n",
    "    rho = 0.9,\n",
    "    sigma = 0.2026, \n",
    "    G = lognorm(0.6,1.8),\n",
    ")"
   ]
  },
  {
   "cell_type": "code",
   "execution_count": 6,
   "metadata": {},
   "outputs": [],
   "source": [
    "res = test.solve_model()"
   ]
  },
  {
   "cell_type": "code",
   "execution_count": 7,
   "metadata": {
    "scrolled": true
   },
   "outputs": [
    {
     "data": {
      "image/png": "[encoded data removed]",
      "text/plain": [
       "<Figure size 1008x360 with 2 Axes>"
      ]
     },
     "metadata": {
      "needs_background": "light"
     },
     "output_type": "display_data"
    }
   ],
   "source": [
    "fig, ax = plt.subplots(1,2,figsize=(14,5))\n",
    "\"\"\"\"ax[0].plot(res.s_vals, res.v, alpha=0.7)\n",
    "ax[0].axvline(res.x, color='k', linestyle='--', alpha=0.7)\n",
    "ax[0].set_xlim(1, 6)\n",
    "ax[0].set_ylim(-20, 100)\n",
    "ax[0].set_xlabel('$a$')\n",
    "ax[0].set_ylabel('$v$')\n",
    "ax[0].text(4.8, 80, '$v(a)$')\n",
    "ax[0].text(5, 60, f'a*={res.x:.3}')\"\"\"\n",
    "ax[0].plot(res.s_vals, test.nu, alpha=0.7)\n",
    "ax[0].set_xlabel('$a$')\n",
    "ax[0].set_ylabel('$pmf$')\n",
    "ax[0].set_title(\"stationary distributioin of productivity levels\")\n",
    "ax[1].plot(res.n_vals, res.mu/res.total_firm_mass, alpha=0.7, label='firm mass share');\n",
    "ax[1].plot(res.n_vals, res.mu*res.n_vals/res.total_employment, alpha=0.7, label='employment share')\n",
    "ax[1].set_xlabel('$n$')\n",
    "ax[1].set_ylabel('$pmf$')\n",
    "ax[1].legend();"
   ]
  },
  {
   "cell_type": "code",
   "execution_count": 9,
   "metadata": {},
   "outputs": [
    {
     "data": {
      "text/plain": [
       "0.9558886281395075"
      ]
     },
     "execution_count": 9,
     "metadata": {},
     "output_type": "execute_result"
    },
    {
     "data": {
      "text/plain": [
       "4.489310242842163"
      ]
     },
     "execution_count": 9,
     "metadata": {},
     "output_type": "execute_result"
    },
    {
     "data": {
      "text/plain": [
       "103.22180148441664"
      ]
     },
     "execution_count": 9,
     "metadata": {},
     "output_type": "execute_result"
    },
    {
     "data": {
      "text/plain": [
       "0.18859200454562822"
      ]
     },
     "execution_count": 9,
     "metadata": {},
     "output_type": "execute_result"
    },
    {
     "data": {
      "text/plain": [
       "0.1885920045456281"
      ]
     },
     "execution_count": 9,
     "metadata": {},
     "output_type": "execute_result"
    }
   ],
   "source": [
    "from IPython.core.interactiveshell import InteractiveShell\n",
    "InteractiveShell.ast_node_interactivity = \"all\"\n",
    "res.p\n",
    "res.x\n",
    "res.average_firm_size\n",
    "res.entry_rate\n",
    "res.exit_rate"
   ]
  },
  {
   "cell_type": "code",
   "execution_count": 11,
   "metadata": {},
   "outputs": [
    {
     "name": "stderr",
     "output_type": "stream",
     "text": [
      "C:\\Users\\wenxu\\anaconda3\\lib\\site-packages\\pandas\\io\\stata.py:1409: UnicodeWarning: \n",
      "One or more strings in the dta file could not be decoded using utf-8, and\n",
      "so the fallback encoding of latin-1 is being used.  This can happen when a file\n",
      "has been incorrectly encoded by Stata or some other software. You should verify\n",
      "the string values returned are correct.\n",
      "  warnings.warn(msg, UnicodeWarning)\n"
     ]
    }
   ],
   "source": [
    "dtc = pd.read_stata('C:/Users/wenxu/Downloads/hw1_q1_data.dta')"
   ]
  },
  {
   "cell_type": "code",
   "execution_count": 13,
   "metadata": {},
   "outputs": [],
   "source": [
    "select_year_2018 = dtc.loc[dtc['year'] == '2018']"
   ]
  },
  {
   "cell_type": "code",
   "execution_count": 29,
   "metadata": {},
   "outputs": [],
   "source": [
    "select_year_2018_empl = select_year_2018[\"empl\"]"
   ]
  },
  {
   "cell_type": "code",
   "execution_count": 44,
   "metadata": {},
   "outputs": [
    {
     "data": {
      "image/png": "[encoded data removed]",
      "text/plain": [
       "<Figure size 432x288 with 1 Axes>"
      ]
     },
     "metadata": {
      "needs_background": "light"
     },
     "output_type": "display_data"
    }
   ],
   "source": [
    "test.ce = 1\n",
    "test.cf = 0.1\n",
    "res = test.solve_model() \n",
    "fig, ax = plt.subplots()\n",
    "ax.plot(res.n_vals, res.mu*res.n_vals/res.total_employment, alpha=0.7, label='employment share')\n",
    "ax = select_year_2018_empl.hist(bins=500, density=True, label='2018 empl')\n",
    "ax.set_xlabel('$n$')\n",
    "ax.set_ylabel('$pmf$')\n",
    "ax.legend();"
   ]
  },
  {
   "cell_type": "code",
   "execution_count": 37,
   "metadata": {},
   "outputs": [
    {
     "data": {
      "text/plain": [
       "<matplotlib.axes._subplots.AxesSubplot at 0x1fd4bee6cc8>"
      ]
     },
     "execution_count": 37,
     "metadata": {},
     "output_type": "execute_result"
    },
    {
     "data": {
      "image/png": "[encoded data removed]",
      "text/plain": [
       "<Figure size 432x288 with 1 Axes>"
      ]
     },
     "metadata": {
      "needs_background": "light"
     },
     "output_type": "display_data"
    }
   ],
   "source": [
    "select_year_2018_empl.hist(bins=1000, density=True, label='2018 empl')"
   ]
  },
  {
   "cell_type": "code",
   "execution_count": 62,
   "metadata": {},
   "outputs": [
    {
     "data": {
      "image/png": "[encoded data removed]",
      "text/plain": [
       "<Figure size 432x288 with 1 Axes>"
      ]
     },
     "metadata": {
      "needs_background": "light"
     },
     "output_type": "display_data"
    }
   ],
   "source": [
    "plt.bar(res.s_vals, res.mu, alpha=0.3);"
   ]
  },
  {
   "cell_type": "code",
   "execution_count": 93,
   "metadata": {},
   "outputs": [],
   "source": [
    "test.sigma = 0.3\n",
    "res = test.solve_model() "
   ]
  },
  {
   "cell_type": "code",
   "execution_count": 94,
   "metadata": {},
   "outputs": [
    {
     "data": {
      "text/plain": [
       "0.6167163909016359"
      ]
     },
     "execution_count": 94,
     "metadata": {},
     "output_type": "execute_result"
    },
    {
     "data": {
      "text/plain": [
       "0.2662217771259635"
      ]
     },
     "execution_count": 94,
     "metadata": {},
     "output_type": "execute_result"
    }
   ],
   "source": [
    "res.p\n",
    "res.exit_rate"
   ]
  },
  {
   "cell_type": "code",
   "execution_count": 95,
   "metadata": {},
   "outputs": [
    {
     "data": {
      "image/png": "[encoded data removed]",
      "text/plain": [
       "<Figure size 432x288 with 1 Axes>"
      ]
     },
     "metadata": {
      "needs_background": "light"
     },
     "output_type": "display_data"
    }
   ],
   "source": [
    "fig, ax = plt.subplots()\n",
    "ax.plot(res.s_vals, res.mu, alpha=0.7, label='firm mass share');\n",
    "ax.set_xlabel('$a$')\n",
    "ax.set_ylabel('$pmf$')\n",
    "ax.legend();"
   ]
  },
  {
   "cell_type": "code",
   "execution_count": 96,
   "metadata": {},
   "outputs": [],
   "source": [
    "test.sigma = 0.2026"
   ]
  },
  {
   "cell_type": "code",
   "execution_count": 98,
   "metadata": {},
   "outputs": [
    {
     "data": {
      "text/plain": [
       "0.8000"
      ]
     },
     "execution_count": 98,
     "metadata": {},
     "output_type": "execute_result"
    }
   ],
   "source": [
    "test.beta"
   ]
  },
  {
   "cell_type": "code",
   "execution_count": null,
   "metadata": {},
   "outputs": [],
   "source": [
    "plt.bar(res.s_vals, res.mu, alpha=0.3);"
   ]
  },
  {
   "cell_type": "code",
   "execution_count": null,
   "metadata": {},
   "outputs": [],
   "source": [
    "test.mc.stationary_distributions.flatten()"
   ]
  },
  {
   "cell_type": "code",
   "execution_count": null,
   "metadata": {},
   "outputs": [],
   "source": [
    "pdf_entry = lognorm(0.6,1.8).pdf(test.s_vals)\n",
    "nu = pdf_entry / np.sum(pdf_entry)\n",
    "nu"
   ]
  },
  {
   "cell_type": "markdown",
   "metadata": {},
   "source": [
    "### 6.2 Hopenhayn & Rogerson 1993"
   ]
  },
  {
   "cell_type": "code",
   "execution_count": null,
   "metadata": {},
   "outputs": [],
   "source": [
    "@dataclass\n",
    "class Primitives_HR(Primitives):\n",
    "\n",
    "    # additional state of last term employment \n",
    "    n_min: float = 1e-3# minimum labor demand value\n",
    "    n_max: float = 500 # maximum labor demand value\n",
    "    n_size: int  = 500 # size of labor demand grid\n",
    "        \n",
    "    def __post_init__(self):\n",
    "        super().__post_init__()\n",
    "        # make grids\n",
    "        self.n_vals = np.linspace(self.n_min, self.n_max, self.n_size) # asset grid\n",
    "        "
   ]
  },
  {
   "cell_type": "markdown",
   "metadata": {},
   "source": [
    "work in progress ... "
   ]
  },
  {
   "cell_type": "code",
   "execution_count": null,
   "metadata": {},
   "outputs": [],
   "source": [
    "lognorm(0.6,1.8)"
   ]
  },
  {
   "cell_type": "code",
   "execution_count": null,
   "metadata": {},
   "outputs": [],
   "source": []
  },
  {
   "cell_type": "markdown",
   "metadata": {},
   "source": [
    "## 7. Extend to balanced growth and transition"
   ]
  },
  {
   "cell_type": "markdown",
   "metadata": {},
   "source": [
    "work in progress ... "
   ]
  },
  {
   "cell_type": "code",
   "execution_count": null,
   "metadata": {},
   "outputs": [],
   "source": []
  },
  {
   "cell_type": "markdown",
   "metadata": {},
   "source": [
    "Finally there are some problems when applying the model to data in Japan\n",
    "- Over long run, there are only establishment-level data rather than firm-level data in Japan. New establishments set up by incumbents may have different demographic features than other brand new establishments."
   ]
  },
  {
   "cell_type": "code",
   "execution_count": null,
   "metadata": {},
   "outputs": [],
   "source": []
  },
  {
   "cell_type": "code",
   "execution_count": null,
   "metadata": {},
   "outputs": [],
   "source": []
  },
  {
   "cell_type": "code",
   "execution_count": null,
   "metadata": {},
   "outputs": [],
   "source": []
  },
  {
   "cell_type": "markdown",
   "metadata": {},
   "source": [
    "## Appendix"
   ]
  },
  {
   "cell_type": "markdown",
   "metadata": {},
   "source": [
    "- Adda-Cooper (2003) method to approximate continuous distribution under AR1 markov process\n",
    "- code stealed from Jason DeBacker's note"
   ]
  },
  {
   "cell_type": "code",
   "execution_count": null,
   "metadata": {},
   "outputs": [],
   "source": [
    "def AddaCooperApproximation(N, mu, rho, sigma):\n",
    "    sigma_z = sigma / ((1 - rho ** 2) ** (1 / 2))\n",
    "    # Compute cut-off values\n",
    "    N = N  # number of grid points (will have one more cut-off point than this)\n",
    "    z_cutoffs = (sigma_z * norm.ppf(np.arange(N + 1) / N)) + mu\n",
    "\n",
    "    # compute grid points for z\n",
    "    z_grid = ( N * sigma_z * (\n",
    "            norm.pdf((z_cutoffs[:-1] - mu) / sigma_z)\n",
    "            - norm.pdf((z_cutoffs[1:] - mu) / sigma_z)\n",
    "        ) ) + mu\n",
    "    \n",
    "    # define function that we will integrate over\n",
    "    def integrand(x, sigma_z, sigma, rho, mu, z_j, z_jp1):\n",
    "        val = (np.exp((-1 * ((x - mu) ** 2)) / (2 * (sigma_z ** 2)))\n",
    "                * (norm.cdf((z_jp1 - (mu * (1 - rho)) - (rho * x)) / sigma)\n",
    "                   - norm.cdf((z_j - (mu * (1 - rho)) - (rho * x)) / sigma)))\n",
    "        return val\n",
    "\n",
    "    # compute transition probabilities\n",
    "    pi = np.empty((N, N))\n",
    "    for i in range(N):\n",
    "        for j in range(N):\n",
    "            results = sp.integrate.quad(integrand, z_cutoffs[i], z_cutoffs[i + 1],\n",
    "                                     args = (sigma_z, sigma, rho, mu,\n",
    "                                             z_cutoffs[j], z_cutoffs[j + 1]))\n",
    "            pi[i,j] = (N / np.sqrt(2 * np.pi * sigma_z ** 2)) * results[0]\n",
    "    return z_grid, pi"
   ]
  }
 ],
 "metadata": {
  "kernelspec": {
   "display_name": "Python 3",
   "language": "python",
   "name": "python3"
  },
  "language_info": {
   "codemirror_mode": {
    "name": "ipython",
    "version": 3
   },
   "file_extension": ".py",
   "mimetype": "text/x-python",
   "name": "python",
   "nbconvert_exporter": "python",
   "pygments_lexer": "ipython3",
   "version": "3.7.6"
  },
  "widgets": {
   "application/vnd.jupyter.widget-state+json": {
    "state": {},
    "version_major": 2,
    "version_minor": 0
   }
  }
 },
 "nbformat": 4,
 "nbformat_minor": 4
}
