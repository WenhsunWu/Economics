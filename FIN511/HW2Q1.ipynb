{
 "cells": [
  {
   "cell_type": "markdown",
   "metadata": {
    "collapsed": true,
    "pycharm": {
     "name": "#%% md\n"
    }
   },
   "source": [
    "First we do some imports"
   ]
  },
  {
   "cell_type": "code",
   "execution_count": 1,
   "outputs": [],
   "source": [
    "import numpy as np\n",
    "import sympy as sym\n",
    "import matplotlib.pyplot as plt\n",
    "%matplotlib inline"
   ],
   "metadata": {
    "collapsed": false,
    "pycharm": {
     "name": "#%%\n"
    }
   }
  },
  {
   "cell_type": "markdown",
   "source": [
    "Then import all the parameters and equations\n"
   ],
   "metadata": {
    "collapsed": false,
    "pycharm": {
     "name": "#%% md\n"
    }
   }
  },
  {
   "cell_type": "code",
   "execution_count": 2,
   "outputs": [],
   "source": [
    "r = 0.05 #interest rate\n",
    "mu = 0.02 #drift\n",
    "sigma = 0.2 #diffusion\n",
    "L = 1 #liquidation value\n",
    "X_0 = 2 #initial dividend\n",
    "alpha = 0.5 #investment scale\n",
    "Inv = 2 #investment cost\n",
    "\n",
    "beta1 = (sigma**2 / 2 - mu + sym.sqrt((mu - sigma**2 / 2)**2 + 2 * sigma**2 * r)) / sigma**2\n",
    "beta2 = (sigma**2 / 2 - mu - sym.sqrt((mu - sigma**2 / 2)**2 + 2 * sigma**2 * r)) / sigma**2\n",
    "\n",
    "x = sym.Symbol('x')\n",
    "\n",
    "#computing Vhat, the value function after investment\n",
    "xLprime = beta2 / (beta2 - 1) * L * (r - mu) / (1 + alpha)\n",
    "\n",
    "Vhat = (1 + alpha) * x / (r - mu) + (x / xLprime)**beta2 * (L - (1 + alpha) * xLprime / (r - mu))\n",
    "\n",
    "Vhatprime = (1 + alpha) / (r - mu) + beta2 * (x / xLprime)**beta2 / x * (L - (1 + alpha) * xLprime / (r - mu))\n",
    "\n",
    "#computing xL, xH\n",
    "xL = sym.Symbol('xL', real=True) #x lower bar\n",
    "xH = sym.Symbol('xH', real=True) #x upper bar\n",
    "\n",
    "VhatxH = (1 + alpha) * xH / (r - mu) + (xH / xLprime)**beta2 * (L - (1 + alpha) * xLprime / (r - mu))\n",
    "VhatprimexH = (1 + alpha) / (r - mu) + beta2 * (xH / xLprime)**beta2 / xH * (L - (1 + alpha) * xLprime / (r - mu))\n",
    "\n",
    "A2 = (VhatxH - Inv - VhatprimexH - (xH / xL)**beta2 * L) / ((1 - beta1) * (1 - (xH / xL)**(beta2 - beta1)))\n",
    "A1 = (L - (VhatxH + Inv + VhatprimexH) * (xH / xL)**(-beta1)) / ((1 - beta2) * (1 - (xH / xL)**(beta2 - beta1)))\n",
    "\n",
    "VxL = xL / (r - mu) + A1 + (xL / xH)**beta1 * A2 - L\n",
    "VxH = xH / (r - mu) + (xH / xL)**beta2 * A1 + A2 - VhatxH + Inv"
   ],
   "metadata": {
    "collapsed": false,
    "pycharm": {
     "name": "#%%\n"
    }
   }
  },
  {
   "cell_type": "code",
   "execution_count": 3,
   "outputs": [],
   "source": [
    "#now we try to solve xL, xH.\n",
    "sol = sym.nsolve((VxL, VxH), (xL, xH), (X_0 / 2, X_0 * 2))"
   ],
   "metadata": {
    "collapsed": false,
    "pycharm": {
     "name": "#%%\n"
    }
   }
  },
  {
   "cell_type": "code",
   "execution_count": 4,
   "outputs": [
    {
     "data": {
      "text/plain": "Matrix([\n[ 0.02023217158828 - 1.12587492006385e-31*I],\n[0.890729905896305 - 2.51212977060925e-33*I]])",
      "text/latex": "$\\displaystyle \\left[\\begin{matrix}0.02023217158828 - 1.12587492006385 \\cdot 10^{-31} i\\\\0.890729905896305 - 2.51212977060925 \\cdot 10^{-33} i\\end{matrix}\\right]$"
     },
     "execution_count": 4,
     "metadata": {},
     "output_type": "execute_result"
    }
   ],
   "source": [
    "sol"
   ],
   "metadata": {
    "collapsed": false,
    "pycharm": {
     "name": "#%%\n"
    }
   }
  },
  {
   "cell_type": "markdown",
   "source": [
    "Wrap everything together"
   ],
   "metadata": {
    "collapsed": false,
    "pycharm": {
     "name": "#%% md\n"
    }
   }
  },
  {
   "cell_type": "code",
   "execution_count": 5,
   "outputs": [],
   "source": [
    "def boundary_computer(r=0.05, mu=0.02, sigma=0.2, L=1, X_0=2, alpha=0.5, Inv=2):\n",
    "    beta1 = (sigma**2 / 2 - mu + sym.sqrt((mu - sigma**2 / 2)**2 + 2 * sigma**2 * r)) / sigma**2\n",
    "    beta2 = (sigma**2 / 2 - mu - sym.sqrt((mu - sigma**2 / 2)**2 + 2 * sigma**2 * r)) / sigma**2\n",
    "\n",
    "    xLprime = beta2 / (beta2 - 1) * L * (r - mu) / (1 + alpha)\n",
    "\n",
    "    xL = sym.Symbol('xL', real=True)\n",
    "    xH = sym.Symbol('xH', real=True)\n",
    "\n",
    "    VhatxH = (1 + alpha) * xH / (r - mu) + (xH / xLprime)**beta2 * (L - (1 + alpha) * xLprime / (r - mu))\n",
    "    VhatprimexH = (1 + alpha) / (r - mu) + beta2 * (xH / xLprime)**beta2 / xH * (L - (1 + alpha) * xLprime / (r - mu))\n",
    "\n",
    "    A2 = (VhatxH - Inv - VhatprimexH - (xH / xL)**beta2 * L) / ((1 - beta1) * (1 - (xH / xL)**(beta2 - beta1)))\n",
    "    A1 = (L - (VhatxH + Inv + VhatprimexH) * (xH / xL)**(-beta1)) / ((1 - beta2) * (1 - (xH / xL)**(beta2 - beta1)))\n",
    "\n",
    "    VxL = xL / (r - mu) + A1 + (xL / xH)**beta1 * A2 - L\n",
    "    VxH = xH / (r - mu) + (xH / xL)**beta2 * A1 + A2 - VhatxH + Inv\n",
    "\n",
    "    sol = sym.nsolve((VxL, VxH), (xL, xH), (X_0 / 2, X_0 * 2))\n",
    "    return sym.re(sol)\n"
   ],
   "metadata": {
    "collapsed": false,
    "pycharm": {
     "name": "#%%\n"
    }
   }
  },
  {
   "cell_type": "code",
   "execution_count": 9,
   "outputs": [],
   "source": [
    "n = 20\n",
    "\n",
    "#define the plot function\n",
    "def plotCS(xL, xH, param, title, ax):\n",
    "    ax.plot(param, xL, label=\"x lower boundary\")\n",
    "    ax.plot(param, xH, label=\"x upper boundary\")\n",
    "    ax.legend()\n",
    "    ax.set_title(title)\n",
    "    return ax"
   ],
   "metadata": {
    "collapsed": false,
    "pycharm": {
     "name": "#%%\n"
    }
   }
  },
  {
   "cell_type": "code",
   "execution_count": 13,
   "outputs": [],
   "source": [
    "#change I first:\n",
    "I = np.linspace(0, 4, n)\n",
    "L = np.linspace(0, 2, n)\n",
    "r = np.linspace(0.04, 0.06, n)\n",
    "sigma = np.linspace(0.2, 0.4, n)\n",
    "solxL = np.zeros(n)\n",
    "solxH = np.zeros(n)"
   ],
   "metadata": {
    "collapsed": false,
    "pycharm": {
     "name": "#%%\n"
    }
   }
  },
  {
   "cell_type": "code",
   "execution_count": 14,
   "outputs": [],
   "source": [
    "for i, Inv in enumerate(I):\n",
    "    solxL[i], solxH[i] = boundary_computer(Inv=Inv)"
   ],
   "metadata": {
    "collapsed": false,
    "pycharm": {
     "name": "#%%\n"
    }
   }
  },
  {
   "cell_type": "code",
   "execution_count": 15,
   "outputs": [
    {
     "data": {
      "text/plain": "<AxesSubplot:title={'center':'Changing sigma'}>"
     },
     "execution_count": 15,
     "metadata": {},
     "output_type": "execute_result"
    },
    {
     "data": {
      "text/plain": "<Figure size 1080x648 with 4 Axes>",
      "image/png": "[encoded data removed]"
     },
     "metadata": {
      "needs_background": "light"
     },
     "output_type": "display_data"
    }
   ],
   "source": [
    "fig, axes = plt.subplots(nrows=2, ncols=2, figsize=(15,9))\n",
    "plotCS(solxL, solxH, I, \"Changing I\", axes[0, 0])\n",
    "for i, Liq in enumerate(L):\n",
    "    solxL[i], solxH[i] = boundary_computer(L=Liq)\n",
    "plotCS(solxL, solxH, L, \"Changing L\", axes[0, 1])\n",
    "for i, rate in enumerate(r):\n",
    "    solxL[i], solxH[i] = boundary_computer(r=rate)\n",
    "plotCS(solxL, solxH, r, \"Changing r\", axes[1, 0])\n",
    "for i, vol in enumerate(sigma):\n",
    "    solxL[i], solxH[i] = boundary_computer(sigma=vol)\n",
    "plotCS(solxL, solxH, sigma, \"Changing sigma\", axes[1, 1])"
   ],
   "metadata": {
    "collapsed": false,
    "pycharm": {
     "name": "#%%\n"
    }
   }
  },
  {
   "cell_type": "code",
   "execution_count": null,
   "outputs": [],
   "source": [],
   "metadata": {
    "collapsed": false,
    "pycharm": {
     "name": "#%%\n"
    }
   }
  }
 ],
 "metadata": {
  "kernelspec": {
   "name": "pycharm-3c75a680",
   "language": "python",
   "display_name": "PyCharm (quanteconpython)"
  },
  "language_info": {
   "codemirror_mode": {
    "name": "ipython",
    "version": 2
   },
   "file_extension": ".py",
   "mimetype": "text/x-python",
   "name": "python",
   "nbconvert_exporter": "python",
   "pygments_lexer": "ipython2",
   "version": "2.7.6"
  }
 },
 "nbformat": 4,
 "nbformat_minor": 0
}