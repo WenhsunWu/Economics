{
 "cells": [
  {
   "cell_type": "markdown",
   "metadata": {
    "collapsed": true,
    "pycharm": {
     "name": "#%% md\n"
    }
   },
   "source": [
    "Again we do some imports\n",
    "\n"
   ]
  },
  {
   "cell_type": "code",
   "execution_count": 12,
   "outputs": [],
   "source": [
    "\n",
    "import numpy as np\n",
    "import sympy as sym\n",
    "import matplotlib.pyplot as plt\n",
    "%matplotlib inline"
   ],
   "metadata": {
    "collapsed": false,
    "pycharm": {
     "name": "#%%\n"
    }
   }
  },
  {
   "cell_type": "markdown",
   "source": [
    "Setting up equations and parameters"
   ],
   "metadata": {
    "collapsed": false,
    "pycharm": {
     "name": "#%% md\n"
    }
   }
  },
  {
   "cell_type": "code",
   "execution_count": 13,
   "outputs": [],
   "source": [
    "r = 0.05 #interest rate\n",
    "mu = 0.02 #drift\n",
    "sigma = 0.25 #diffusion\n",
    "gamma = 0.2 #tax rate\n",
    "X_0 = 1 #initial dividend\n",
    "q = 0.1 #cost of issuing debt\n",
    "alpha = 0.15 #default cost\n",
    "\n",
    "beta1 = (sigma**2 / 2 - mu + sym.sqrt((mu - sigma**2 / 2)**2 + 2 * sigma**2 * r)) / sigma**2\n",
    "beta2 = (sigma**2 / 2 - mu - sym.sqrt((mu - sigma**2 / 2)**2 + 2 * sigma**2 * r)) / sigma**2\n",
    "\n",
    "xstar = sym.Symbol('x^*')\n",
    "xdoverc0 = sym.Symbol('\\\\frac{x_D}{c_0}')\n",
    "xroverc0 = sym.Symbol('\\\\frac{x_R}{c_0}')\n",
    "def AD(x, xl, xh):\n",
    "    return -(x/xl)**beta1 * ((xl/xh)**(beta2 - beta1) - 1)**(-1) + (x/xl)**beta2 * (1 - (xl/xh)**(beta1 - beta2))**(-1)\n",
    "\n",
    "Sequity = (xstar/(r - mu) - 1/r) * (1 - gamma) + (xstar/xdoverc0)**beta2 * (1/r - xdoverc0/(r - mu)) * (1 - gamma)\n",
    "\n",
    "D = 1 / r + AD(xstar, xdoverc0, xroverc0) * (-1 / r + (1 - alpha) * (1 - gamma) * xdoverc0 / (r - mu)) \\\n",
    "    + 1 / r * AD(xstar, xroverc0, xdoverc0)\n",
    "S = (xstar / (r - mu) - 1 / r + AD(xstar, xdoverc0, xroverc0) * (1 / r - xdoverc0 / (r - mu))) * (1 - gamma) \\\n",
    "    + AD(xstar, xroverc0, xdoverc0) * ((1 / r - xroverc0 / (r - mu)) * (1 - gamma) - 1/r + (1 - q)*D + Sequity)\n",
    "\n",
    "Sprime = S.diff(xstar)\n",
    "Dprime = D.diff(xstar)\n",
    "Sequityprime = Sequity.diff(xstar)"
   ],
   "metadata": {
    "collapsed": false,
    "pycharm": {
     "name": "#%%\n"
    }
   }
  },
  {
   "cell_type": "code",
   "execution_count": 14,
   "outputs": [],
   "source": [
    "eq1 = Sprime.subs(xstar, xdoverc0)\n",
    "eq2 = (1 - q) * D - (1 - q) * xstar * Dprime - xstar * Sequityprime + Sequity\n",
    "eq3 = Sprime.subs(xstar, xroverc0) - (1 - q) * Dprime - Sequityprime"
   ],
   "metadata": {
    "collapsed": false,
    "pycharm": {
     "name": "#%%\n"
    }
   }
  },
  {
   "cell_type": "code",
   "execution_count": null,
   "outputs": [],
   "source": [
    "sym.nsolve((eq1, eq2, eq3), (xstar, xdoverc0, xroverc0), (0.32, 1, 20))"
   ],
   "metadata": {
    "collapsed": false,
    "pycharm": {
     "name": "#%%\n"
    }
   }
  },
  {
   "cell_type": "markdown",
   "source": [
    "This step took too long. There could well be some mistake either in my calculation or coding.\n",
    "Below is the code for Q3. I only solve Q3.1 with pseudo barrier of default, refinance, and optimal ratio.\n",
    "Q3.2 is almost the same, with only a slight change of those barriers and a new way to compute company value."
   ],
   "metadata": {
    "collapsed": false,
    "pycharm": {
     "name": "#%% md\n"
    }
   }
  },
  {
   "cell_type": "markdown",
   "source": [
    "Writing code for Q3"
   ],
   "metadata": {
    "collapsed": false,
    "pycharm": {
     "name": "#%% md\n"
    }
   }
  },
  {
   "cell_type": "code",
   "execution_count": 15,
   "outputs": [],
   "source": [
    "N = 10000\n",
    "period = 300\n",
    "optimalratio = 0.5 #optimal interest coverage ratio\n",
    "refinance = 2 #refinancing boundary\n",
    "default = 0.2 #default boundary\n",
    "dt = 0.01 #time interval\n",
    "\n",
    "def simpath(xinit, refinance, default, optimalratio):\n",
    "    W = np.random.standard_normal(size=period)\n",
    "    X = np.empty(period)\n",
    "    C = np.empty(period)\n",
    "    ratio = np.empty(period)\n",
    "    X[0] = xinit\n",
    "    C[0] = xinit * optimalratio\n",
    "    ratio[0] = X[0] / C[0]\n",
    "\n",
    "    for t in range(period - 1):\n",
    "        X[t+1] = X[t] * np.exp((mu - 0.5*sigma**2)*dt + sigma*W[t+1])\n",
    "        if X[t+1] / C[t] >= refinance:\n",
    "            C[t+1] = X[t+1] * optimalratio\n",
    "        elif X[t+1] / C[t] <= default:\n",
    "            X[t+1:] = 0\n",
    "            C[t+1:] = C[t]\n",
    "            ratio[t+1:] = 0\n",
    "            #plt.plot(range(300), X)\n",
    "            #plt.show()\n",
    "            return X, C, ratio\n",
    "        else:\n",
    "            C[t+1] = C[t]\n",
    "        ratio[t+1] = X[t+1] / C[t+1]\n",
    "    #plt.plot(range(300), X)\n",
    "    #plt.show()\n",
    "    return X, C, ratio"
   ],
   "metadata": {
    "collapsed": false,
    "pycharm": {
     "name": "#%%\n"
    }
   }
  },
  {
   "cell_type": "markdown",
   "source": [
    "So the leverage ratio is $\\frac{(1 - q) D(X_t)}{(1 - q) D(X_t) + S(X_t)}$ in question 2.1.\n",
    "We then compute $D(X_t)$ and $S(X_t)$"
   ],
   "metadata": {
    "collapsed": false,
    "pycharm": {
     "name": "#%% md\n"
    }
   }
  },
  {
   "cell_type": "code",
   "execution_count": 16,
   "outputs": [],
   "source": [
    "def leverage_ratio(x, c):\n",
    "    xD = beta2 / (beta2 - 1) * (r - mu) / r * c\n",
    "    S = (x / (r - mu) - c / r) * (1 - gamma) + (x / xD)**beta2*(-xD/(r - mu) + c/r) * (1 - gamma)\n",
    "    D = c / r - (x / xD)**beta2 * c / r + (x / xD)**beta2 * (1 - alpha) * (1 - gamma) * xD / (r - mu)\n",
    "    return (1 - q) * D / ((1 - q) * D + S)"
   ],
   "metadata": {
    "collapsed": false,
    "pycharm": {
     "name": "#%%\n"
    }
   }
  },
  {
   "cell_type": "code",
   "execution_count": 17,
   "outputs": [
    {
     "data": {
      "text/plain": "<Figure size 432x288 with 1 Axes>",
      "image/png": "[encoded data removed]"
     },
     "metadata": {
      "needs_background": "light"
     },
     "output_type": "display_data"
    }
   ],
   "source": [
    "sample = np.empty(N)\n",
    "for n in range(N):\n",
    "    X, C, ratio = simpath(1, 8, 0.3, 1)\n",
    "    if X[-1] > 0:\n",
    "        sample[n] = leverage_ratio(X[-1], C[-1])\n",
    "    else:\n",
    "        sample[n] = 0\n",
    "\n",
    "\n",
    "fig, ax = plt.subplots()\n",
    "ax.hist(sample[sample > 0], bins=30, density=True, histtype='bar', alpha=0.75)\n",
    "plt.show()"
   ],
   "metadata": {
    "collapsed": false,
    "pycharm": {
     "name": "#%%\n"
    }
   }
  },
  {
   "cell_type": "markdown",
   "source": [
    "Average leverage ratio:"
   ],
   "metadata": {
    "collapsed": false,
    "pycharm": {
     "name": "#%% md\n"
    }
   }
  },
  {
   "cell_type": "code",
   "execution_count": 18,
   "outputs": [
    {
     "data": {
      "text/plain": "0.46281684605943096"
     },
     "execution_count": 18,
     "metadata": {},
     "output_type": "execute_result"
    }
   ],
   "source": [
    "np.mean(sample[sample > 0])"
   ],
   "metadata": {
    "collapsed": false,
    "pycharm": {
     "name": "#%%\n"
    }
   }
  },
  {
   "cell_type": "code",
   "execution_count": null,
   "outputs": [],
   "source": [],
   "metadata": {
    "collapsed": false,
    "pycharm": {
     "name": "#%%\n"
    }
   }
  }
 ],
 "metadata": {
  "kernelspec": {
   "name": "pycharm-3c75a680",
   "language": "python",
   "display_name": "PyCharm (quanteconpython)"
  },
  "language_info": {
   "codemirror_mode": {
    "name": "ipython",
    "version": 2
   },
   "file_extension": ".py",
   "mimetype": "text/x-python",
   "name": "python",
   "nbconvert_exporter": "python",
   "pygments_lexer": "ipython2",
   "version": "2.7.6"
  }
 },
 "nbformat": 4,
 "nbformat_minor": 0
}